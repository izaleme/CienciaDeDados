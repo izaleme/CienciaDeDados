{
  "nbformat": 4,
  "nbformat_minor": 0,
  "metadata": {
    "colab": {
      "name": "Decision Tree.ipynb",
      "provenance": [],
      "mount_file_id": "1iw2RC4PRx-B32drHoN6CYsIoFkrvH5xr",
      "authorship_tag": "ABX9TyP0olhwEW7XvmBpOceG2oYZ",
      "include_colab_link": true
    },
    "kernelspec": {
      "name": "python3",
      "display_name": "Python 3"
    },
    "language_info": {
      "name": "python"
    }
  },
  "cells": [
    {
      "cell_type": "markdown",
      "metadata": {
        "id": "view-in-github",
        "colab_type": "text"
      },
      "source": [
        "<a href=\"https://colab.research.google.com/github/izaleme/CienciaDeDados/blob/main/Decision_Tree.ipynb\" target=\"_parent\"><img src=\"https://colab.research.google.com/assets/colab-badge.svg\" alt=\"Open In Colab\"/></a>"
      ]
    },
    {
      "cell_type": "markdown",
      "metadata": {
        "id": "wnQ8MRP598A_"
      },
      "source": [
        "#  Aula - Decision Tree \n",
        "08/10/2021 - Izabela"
      ]
    },
    {
      "cell_type": "markdown",
      "metadata": {
        "id": "O38L8GAkKGTq"
      },
      "source": [
        "***Atividades em sala:***"
      ]
    },
    {
      "cell_type": "code",
      "metadata": {
        "id": "0wv6NVwo94ni"
      },
      "source": [
        "import numpy as np\n",
        "from sklearn import datasets\n",
        "from sklearn.neighbors import KNeighborsClassifier\n",
        "from sklearn.model_selection import train_test_split\n",
        "from collections import Counter"
      ],
      "execution_count": null,
      "outputs": []
    },
    {
      "cell_type": "code",
      "metadata": {
        "colab": {
          "base_uri": "https://localhost:8080/"
        },
        "id": "A-5g7WZnFD0G",
        "outputId": "04d1d55b-9310-43ad-9e81-fc35af47e5f6"
      },
      "source": [
        "from google.colab import drive\n",
        "drive.mount('/content/drive')"
      ],
      "execution_count": null,
      "outputs": [
        {
          "output_type": "stream",
          "name": "stdout",
          "text": [
            "Drive already mounted at /content/drive; to attempt to forcibly remount, call drive.mount(\"/content/drive\", force_remount=True).\n"
          ]
        }
      ]
    },
    {
      "cell_type": "code",
      "metadata": {
        "id": "hRODAKF--qh9"
      },
      "source": [
        "import math\n",
        "def entropy(class_probabilities):\n",
        "  \"\"\"given a list of class probabilities, compute the entropy\"\"\"\n",
        "  return sum(-p * math.log(p, 2)\n",
        "    for p in class_probabilities if p) # ignore zero probabilities"
      ],
      "execution_count": null,
      "outputs": []
    },
    {
      "cell_type": "code",
      "metadata": {
        "colab": {
          "base_uri": "https://localhost:8080/"
        },
        "id": "eRx16mbPEUmt",
        "outputId": "93bd427a-af1d-44c0-9dac-3e787392be2f"
      },
      "source": [
        "entropy([0.99])"
      ],
      "execution_count": null,
      "outputs": [
        {
          "output_type": "execute_result",
          "data": {
            "text/plain": [
              "0.01435457399816394"
            ]
          },
          "metadata": {},
          "execution_count": 4
        }
      ]
    },
    {
      "cell_type": "code",
      "metadata": {
        "id": "ro6bxaooEgrI"
      },
      "source": [
        "from collections import Counter\n",
        "\n",
        "def class_probabilities(labels):\n",
        "  total_count = len(labels)\n",
        "  return [count / total_count\n",
        "    for count in Counter(labels).values()]"
      ],
      "execution_count": null,
      "outputs": []
    },
    {
      "cell_type": "code",
      "metadata": {
        "id": "QFRE54I1F0YX"
      },
      "source": [
        "inputs = [\n",
        "  ({'level':'Senior', 'lang':'Java', 'tweets':'no', 'phd':'no'}, False),\n",
        "  ({'level':'Senior', 'lang':'Java', 'tweets':'no', 'phd':'yes'}, False),\n",
        "  ({'level':'Mid', 'lang':'Python', 'tweets':'no', 'phd':'no'}, True),\n",
        "  ({'level':'Junior', 'lang':'Python', 'tweets':'no', 'phd':'no'}, True),\n",
        "  ({'level':'Junior', 'lang':'R', 'tweets':'yes', 'phd':'no'}, True),\n",
        "  ({'level':'Junior', 'lang':'R', 'tweets':'yes', 'phd':'yes'}, False),\n",
        "  ({'level':'Mid', 'lang':'R', 'tweets':'yes', 'phd':'yes'}, True),\n",
        "  ({'level':'Senior', 'lang':'Python', 'tweets':'no', 'phd':'no'}, False),\n",
        "  ({'level':'Senior', 'lang':'R', 'tweets':'yes', 'phd':'no'}, True),\n",
        "  ({'level':'Junior', 'lang':'Python', 'tweets':'yes', 'phd':'no'}, True),\n",
        "  ({'level':'Senior', 'lang':'Python', 'tweets':'yes', 'phd':'yes'}, True),\n",
        "  ({'level':'Mid', 'lang':'Python', 'tweets':'no', 'phd':'yes'}, True),\n",
        "  ({'level':'Mid', 'lang':'Java', 'tweets':'yes', 'phd':'no'}, True),\n",
        "  ({'level':'Junior', 'lang':'Python', 'tweets':'no', 'phd':'yes'}, False)\n",
        "]\n"
      ],
      "execution_count": null,
      "outputs": []
    },
    {
      "cell_type": "code",
      "metadata": {
        "colab": {
          "base_uri": "https://localhost:8080/"
        },
        "id": "P9Gnfpb0Ewq4",
        "outputId": "450e121b-fd8b-41ef-be00-4ef78cc8e667"
      },
      "source": [
        "labels = [label for _, label in inputs]  # o _, despreza o dicionário e só pega as labels\n",
        "class_probabilities(labels)"
      ],
      "execution_count": null,
      "outputs": [
        {
          "output_type": "execute_result",
          "data": {
            "text/plain": [
              "[0.35714285714285715, 0.6428571428571429]"
            ]
          },
          "metadata": {},
          "execution_count": 7
        }
      ]
    },
    {
      "cell_type": "code",
      "metadata": {
        "id": "Ostfmz85F8cY"
      },
      "source": [
        "def data_entropy(labeled_data):\n",
        "  labels = [label for _, label in labeled_data]\n",
        "  probabilities = class_probabilities(labels)\n",
        "  return entropy(probabilities)"
      ],
      "execution_count": null,
      "outputs": []
    },
    {
      "cell_type": "code",
      "metadata": {
        "colab": {
          "base_uri": "https://localhost:8080/"
        },
        "id": "NU1oq-ZeF-qz",
        "outputId": "829c42a3-04c5-411c-82a3-af98b9e3d9a7"
      },
      "source": [
        " data_entropy(inputs)"
      ],
      "execution_count": null,
      "outputs": [
        {
          "output_type": "execute_result",
          "data": {
            "text/plain": [
              "0.9402859586706309"
            ]
          },
          "metadata": {},
          "execution_count": 9
        }
      ]
    },
    {
      "cell_type": "code",
      "metadata": {
        "colab": {
          "base_uri": "https://localhost:8080/"
        },
        "id": "8BUe6hD5GZHJ",
        "outputId": "ff69e97b-5de3-4d2c-ba55-ab1b0606fff2"
      },
      "source": [
        " entropy([0.98, 0.02])"
      ],
      "execution_count": null,
      "outputs": [
        {
          "output_type": "execute_result",
          "data": {
            "text/plain": [
              "0.14144054254182067"
            ]
          },
          "metadata": {},
          "execution_count": 10
        }
      ]
    },
    {
      "cell_type": "code",
      "metadata": {
        "id": "pSSbniJ3Ge4M"
      },
      "source": [
        "def partition_entropy(subsets):\n",
        "  \"\"\"find the entropy from this partition of data into subsets\n",
        "  subsets is a list of lists of labeled data\"\"\"\n",
        "  total_count = sum(len(subset) for subset in subsets)\n",
        "  return sum( data_entropy(subset) * len(subset) / total_count\n",
        "    for subset in subsets )"
      ],
      "execution_count": null,
      "outputs": []
    },
    {
      "cell_type": "markdown",
      "metadata": {
        "id": "UanfBJW_Gnlw"
      },
      "source": [
        "***`Criando uma árvore de decisão`***"
      ]
    },
    {
      "cell_type": "code",
      "metadata": {
        "colab": {
          "base_uri": "https://localhost:8080/"
        },
        "id": "M4cV6YuiGqRj",
        "outputId": "aad5fc86-eabf-4192-eeaf-f5d95ad725f8"
      },
      "source": [
        " inputs[0][0].keys()"
      ],
      "execution_count": null,
      "outputs": [
        {
          "output_type": "execute_result",
          "data": {
            "text/plain": [
              "dict_keys(['level', 'lang', 'tweets', 'phd'])"
            ]
          },
          "metadata": {},
          "execution_count": 12
        }
      ]
    },
    {
      "cell_type": "code",
      "metadata": {
        "id": "6qvW20t_G0Y0"
      },
      "source": [
        " def partition_by(inputs, attribute):\n",
        "  \"\"\"each input is a pair (attribute_dict, label).\n",
        "  returns a dict : attribute_value -> inputs\"\"\"\n",
        "  groups = defaultdict(list)\n",
        "  for input in inputs:\n",
        "    key = input[0][attribute] # get the value of the specified attribute\n",
        "    groups[key].append(input) # then add this input to the correct list\n",
        "  return groups"
      ],
      "execution_count": null,
      "outputs": []
    },
    {
      "cell_type": "markdown",
      "metadata": {
        "id": "mNIHBWqeKztf"
      },
      "source": [
        "`Outra função usada para calcular a entropia:`"
      ]
    },
    {
      "cell_type": "code",
      "metadata": {
        "id": "4wyU6V5KG3wu"
      },
      "source": [
        "def partition_entropy_by(inputs, attribute):\n",
        "  \"\"\"computes the entropy corresponding to the given partition\"\"\"\n",
        "  partitions = partition_by(inputs, attribute)\n",
        "  return partition_entropy(partitions.values())"
      ],
      "execution_count": null,
      "outputs": []
    },
    {
      "cell_type": "markdown",
      "metadata": {
        "id": "r5Mf2r4zMBcp"
      },
      "source": [
        "`Encontra a partição de menor entropia para todo o conjunto de dados:`"
      ]
    },
    {
      "cell_type": "code",
      "metadata": {
        "id": "pVAvAo-JHtap"
      },
      "source": [
        "from collections import defaultdict, Counter\n",
        "from functools import partial\n",
        "import math, random"
      ],
      "execution_count": null,
      "outputs": []
    },
    {
      "cell_type": "code",
      "metadata": {
        "colab": {
          "base_uri": "https://localhost:8080/"
        },
        "id": "EStmIftyHu_y",
        "outputId": "24fe4744-381b-4bb7-d207-6d88f9aae244"
      },
      "source": [
        "for key in ['level','lang','tweets','phd']:\n",
        "  print(key, partition_entropy_by(inputs, key))\n",
        "# level 0.693536138896\n",
        "# lang 0.860131712855\n",
        "# tweets 0.788450457308\n",
        "# phd 0.892158928262"
      ],
      "execution_count": null,
      "outputs": [
        {
          "output_type": "stream",
          "name": "stdout",
          "text": [
            "level 0.6935361388961919\n",
            "lang 0.8601317128547441\n",
            "tweets 0.7884504573082896\n",
            "phd 0.8921589282623617\n"
          ]
        }
      ]
    },
    {
      "cell_type": "code",
      "metadata": {
        "colab": {
          "base_uri": "https://localhost:8080/"
        },
        "id": "ExCR46--H-uB",
        "outputId": "6b7bedf2-028c-42ec-86db-c5b934766769"
      },
      "source": [
        "senior_inputs = [(input, label)\n",
        "  for input, label in inputs if input[\"level\"] == \"Senior\"]\n",
        "  \n",
        "for key in ['lang', 'tweets', 'phd']:\n",
        "  print (key, partition_entropy_by(senior_inputs, key))\n",
        " \n",
        "# lang 0.4\n",
        "# tweets 0.0\n",
        "# phd 0.950977500433"
      ],
      "execution_count": null,
      "outputs": [
        {
          "output_type": "stream",
          "name": "stdout",
          "text": [
            "lang 0.4\n",
            "tweets 0.0\n",
            "phd 0.9509775004326938\n"
          ]
        }
      ]
    },
    {
      "cell_type": "code",
      "metadata": {
        "colab": {
          "base_uri": "https://localhost:8080/"
        },
        "id": "xv20zzXnJ90O",
        "outputId": "a0127a06-2c7c-4962-e161-45a7e4138cf6"
      },
      "source": [
        "('level',\n",
        "  {'Junior': ('phd', {'no': True, 'yes': False}),\n",
        "  'Mid': True,\n",
        "  'Senior': ('tweets', {'no': False, 'yes': True})})"
      ],
      "execution_count": null,
      "outputs": [
        {
          "output_type": "execute_result",
          "data": {
            "text/plain": [
              "('level',\n",
              " {'Junior': ('phd', {'no': True, 'yes': False}),\n",
              "  'Mid': True,\n",
              "  'Senior': ('tweets', {'no': False, 'yes': True})})"
            ]
          },
          "metadata": {},
          "execution_count": 18
        }
      ]
    },
    {
      "cell_type": "code",
      "metadata": {
        "colab": {
          "base_uri": "https://localhost:8080/"
        },
        "id": "8l4cArjdKGH0",
        "outputId": "11758036-710a-4884-9d0b-c4517296b382"
      },
      "source": [
        "('level',\n",
        "  {'Junior': ('phd', {'no': True, 'yes': False}),\n",
        "  'Mid': True,\n",
        "  'Senior': ('tweets', {'no': False, 'yes': True}),\n",
        "  'None': True})"
      ],
      "execution_count": null,
      "outputs": [
        {
          "output_type": "execute_result",
          "data": {
            "text/plain": [
              "('level',\n",
              " {'Junior': ('phd', {'no': True, 'yes': False}),\n",
              "  'Mid': True,\n",
              "  'None': True,\n",
              "  'Senior': ('tweets', {'no': False, 'yes': True})})"
            ]
          },
          "metadata": {},
          "execution_count": 19
        }
      ]
    },
    {
      "cell_type": "markdown",
      "metadata": {
        "id": "YPs192m_DopQ"
      },
      "source": [
        "***Atividade 1 - Decision Tree + Iris + SKLearn***"
      ]
    },
    {
      "cell_type": "markdown",
      "metadata": {
        "id": "LV7IXsZaGZVl"
      },
      "source": [
        "`Exercício: Desenvolva um classificador de flor Íris usando a técnica de Decision Tree e a biblioteca SKLearn`"
      ]
    },
    {
      "cell_type": "code",
      "metadata": {
        "id": "jz67lNhrHkDd"
      },
      "source": [
        "import pandas as pd\n",
        "from sklearn.tree import DecisionTreeClassifier"
      ],
      "execution_count": null,
      "outputs": []
    },
    {
      "cell_type": "code",
      "metadata": {
        "id": "DeMbLdHtEyRP"
      },
      "source": [
        "iris = datasets.load_iris()"
      ],
      "execution_count": null,
      "outputs": []
    },
    {
      "cell_type": "code",
      "metadata": {
        "id": "FtlHucrxG30k"
      },
      "source": [
        "def entropia(probabilidades):\n",
        "    return sum(-p * math.log(p, 2) for p in probabilidades if p)"
      ],
      "execution_count": null,
      "outputs": []
    },
    {
      "cell_type": "code",
      "metadata": {
        "colab": {
          "base_uri": "https://localhost:8080/"
        },
        "id": "jf1ODgN8G-gg",
        "outputId": "799c2199-49af-4824-80f2-9ffe7a6acc94"
      },
      "source": [
        "p1 = 50.0/150.0\n",
        "p2 = 50.0/150.0\n",
        "p3 = 50.0/150.0\n",
        "print(entropia([p1, p2, p3]))"
      ],
      "execution_count": null,
      "outputs": [
        {
          "output_type": "stream",
          "name": "stdout",
          "text": [
            "1.584962500721156\n"
          ]
        }
      ]
    },
    {
      "cell_type": "code",
      "metadata": {
        "id": "At1fQaONHATr"
      },
      "source": [
        "atributos = ['SepalLength', 'SepalWidth', 'PetalLength', 'PetalWidth', 'Class']\n",
        "df = pd.read_csv('/content/drive/MyDrive/Datas/iris.data.txt', names=atributos)"
      ],
      "execution_count": null,
      "outputs": []
    },
    {
      "cell_type": "code",
      "metadata": {
        "id": "7vqxOGEXImsn"
      },
      "source": [
        "# A matriz \"x\" representa as características de uma flor Iris.\n",
        "X = df[df.columns.difference(['Class'])].values\n",
        "\n",
        "# A matriz \"y\" representa as classes de cada uma das flores.\n",
        "y = df['Class'].values"
      ],
      "execution_count": null,
      "outputs": []
    },
    {
      "cell_type": "code",
      "metadata": {
        "colab": {
          "base_uri": "https://localhost:8080/"
        },
        "id": "5tcnZca-Hsde",
        "outputId": "813f18ef-d7f2-4a28-fa8b-48ef72e42f9a"
      },
      "source": [
        "iris_classificador = DecisionTreeClassifier(random_state=1234, criterion='entropy', max_depth=3)\n",
        "\n",
        "# A função fit treina o modelo, usando as entradas x para classificar y.\n",
        "\n",
        "iris_classificador.fit(X, y)"
      ],
      "execution_count": null,
      "outputs": [
        {
          "output_type": "execute_result",
          "data": {
            "text/plain": [
              "DecisionTreeClassifier(ccp_alpha=0.0, class_weight=None, criterion='entropy',\n",
              "                       max_depth=3, max_features=None, max_leaf_nodes=None,\n",
              "                       min_impurity_decrease=0.0, min_impurity_split=None,\n",
              "                       min_samples_leaf=1, min_samples_split=2,\n",
              "                       min_weight_fraction_leaf=0.0, presort='deprecated',\n",
              "                       random_state=1234, splitter='best')"
            ]
          },
          "metadata": {},
          "execution_count": 44
        }
      ]
    },
    {
      "cell_type": "code",
      "metadata": {
        "colab": {
          "base_uri": "https://localhost:8080/"
        },
        "id": "YVq2tibqIBFS",
        "outputId": "44ceeb8f-b482-4d26-ae74-a3f90c007b6a"
      },
      "source": [
        "novos_exemplos = [[1.6, 0.5, 5.0, 3.6], [4.2, 1.2, 5.8, 2.7], [5.2, 2.4, 7.0, 3.2]]\n",
        "\n",
        "# A Função predict classifica novos exemplos de amostras.\n",
        "\n",
        "print(iris_classificador.predict(novos_exemplos))"
      ],
      "execution_count": null,
      "outputs": [
        {
          "output_type": "stream",
          "name": "stdout",
          "text": [
            "['Iris-setosa' 'Iris-versicolor' 'Iris-virginica']\n"
          ]
        }
      ]
    },
    {
      "cell_type": "markdown",
      "metadata": {
        "id": "2HN9yrOOIJi5"
      },
      "source": [
        "`Decision Tree com validação cruzada:`"
      ]
    },
    {
      "cell_type": "code",
      "metadata": {
        "colab": {
          "base_uri": "https://localhost:8080/"
        },
        "id": "HUL00wmuIJ4J",
        "outputId": "d040b110-5cc2-4961-e365-ca046052a72d"
      },
      "source": [
        "from sklearn.model_selection import cross_val_score\n",
        "avaliacao = cross_val_score(iris_classificador, X, y, scoring='accuracy', cv=5)\n",
        "print(avaliacao.mean())"
      ],
      "execution_count": null,
      "outputs": [
        {
          "output_type": "stream",
          "name": "stdout",
          "text": [
            "0.96\n"
          ]
        }
      ]
    }
  ]
}