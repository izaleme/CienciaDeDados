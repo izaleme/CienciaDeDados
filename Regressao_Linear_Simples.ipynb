{
  "nbformat": 4,
  "nbformat_minor": 0,
  "metadata": {
    "colab": {
      "name": "Regressao-Linear-Simples.ipynb",
      "provenance": [],
      "collapsed_sections": [],
      "include_colab_link": true
    },
    "kernelspec": {
      "name": "python3",
      "display_name": "Python 3"
    },
    "language_info": {
      "name": "python"
    }
  },
  "cells": [
    {
      "cell_type": "markdown",
      "metadata": {
        "id": "view-in-github",
        "colab_type": "text"
      },
      "source": [
        "<a href=\"https://colab.research.google.com/github/izaleme/CienciaDeDados/blob/main/Regressao_Linear_Simples.ipynb\" target=\"_parent\"><img src=\"https://colab.research.google.com/assets/colab-badge.svg\" alt=\"Open In Colab\"/></a>"
      ]
    },
    {
      "cell_type": "markdown",
      "metadata": {
        "id": "XCmAlWvl3e3U"
      },
      "source": [
        "**Aprendizado em aula**"
      ]
    },
    {
      "cell_type": "markdown",
      "metadata": {
        "id": "srf5gwkS3hZU"
      },
      "source": [
        "`Aluno: Izabela Leme`"
      ]
    },
    {
      "cell_type": "markdown",
      "metadata": {
        "id": "BiQ-SMSxxPYn"
      },
      "source": [
        "***`Importa as bibliotecas que serão necessárias`***"
      ]
    },
    {
      "cell_type": "code",
      "metadata": {
        "colab": {
          "base_uri": "https://localhost:8080/"
        },
        "id": "7_waksc0zhIB",
        "outputId": "fd819b11-d930-4b68-f957-8265f413ea28"
      },
      "source": [
        "from google.colab import drive\n",
        "drive.mount('/content/drive')"
      ],
      "execution_count": null,
      "outputs": [
        {
          "output_type": "stream",
          "name": "stdout",
          "text": [
            "Drive already mounted at /content/drive; to attempt to forcibly remount, call drive.mount(\"/content/drive\", force_remount=True).\n"
          ]
        }
      ]
    },
    {
      "cell_type": "code",
      "metadata": {
        "id": "l4U1i8CKp5YI"
      },
      "source": [
        "from collections import Counter\n",
        "import matplotlib\n",
        "import matplotlib.pyplot as plt\n",
        "import random\n",
        "import math\n",
        "import numpy as np"
      ],
      "execution_count": null,
      "outputs": []
    },
    {
      "cell_type": "code",
      "metadata": {
        "id": "qBzxQ5aBqYMm"
      },
      "source": [
        "num_friends = [10, 49, 41, 40, 25, 1, 1, 1, 1, 1, 2, 2, 2, 2, 3, 3, 3, 4, 4, 4, 15, 15, 15, 18, 20, 20]\n",
        "daily_min = [18, 39, 37, 35, 28, 7, 9, 8, 7, 8, 10, 11, 12, 9, 13, 15, 14, 14, 25, 27, 29, 28, 30, 32]"
      ],
      "execution_count": null,
      "outputs": []
    },
    {
      "cell_type": "code",
      "metadata": {
        "id": "AQ5lEDek0HPM"
      },
      "source": [
        "def predict(alpha, beta, x_i):\n",
        "  return beta * x_i + alpha"
      ],
      "execution_count": null,
      "outputs": []
    },
    {
      "cell_type": "code",
      "metadata": {
        "id": "rtRG62Gvq9U9"
      },
      "source": [
        "def mean(x):\n",
        "  return sum(x) / len(x)\n",
        "\n",
        "def de_mean(x):\n",
        "  x_bar = mean(x)\n",
        "  return [x_i - x_bar for x_i in x]\n",
        "\n",
        "def dot(v, w):\n",
        "  return sum(v_i * w_i\n",
        "    for v_i, w_i in zip(v, w))\n",
        "\n",
        "def sum_of_squares(x):\n",
        "  return sum([x_i * x_i for x_i in x])\n",
        "\n",
        "def variance(x):\n",
        "  n = len(x)\n",
        "  deviations = de_mean(x)\n",
        "  return sum_of_squares(deviations) / (n - 1)\n",
        "\n",
        "def standard_deviation(x):\n",
        "  return math.sqrt(variance(x))\n",
        "\n",
        "def covariance(x, y):\n",
        "  n = len(x)\n",
        "  return dot(de_mean(x), de_mean(y)) / (n - 1)\n",
        "\n",
        "def correlation(x, y):\n",
        "  stdev_x = standard_deviation(x)\n",
        "  stdev_y = standard_deviation(y)\n",
        "  if stdev_x > 0 and stdev_y > 0:\n",
        "    return covariance(x, y) / stdev_x / stdev_y\n",
        "  else:\n",
        "    return"
      ],
      "execution_count": null,
      "outputs": []
    },
    {
      "cell_type": "code",
      "metadata": {
        "id": "JP4vW3lXthYI"
      },
      "source": [
        "plt.scatter(num_friends, daily_min)\n",
        "plt.title(\"Minutos por dia X numero de amigos\")\n",
        "plt.xlabel(\"Qtde de amigos\")\n",
        "plt.ylabel(\"Minutos por dia no site\")\n",
        "plt.show()"
      ],
      "execution_count": null,
      "outputs": []
    },
    {
      "cell_type": "code",
      "metadata": {
        "id": "oA8a1oIh0hcd"
      },
      "source": [
        "def error(alpha, beta, x_i, y_i):\n",
        "  \"\"\"the error from predicting beta * x_i + alpha when the actual value is y_i\"\"\"\n",
        "  return y_i - predict(alpha, beta, x_i)"
      ],
      "execution_count": null,
      "outputs": []
    },
    {
      "cell_type": "code",
      "metadata": {
        "id": "yAEAEcS_y8pR"
      },
      "source": [
        "def sum_of_squared_errors(alpha, beta, x, y):\n",
        "  return sum(error(alpha, beta, x_i, y_i) ** 2\n",
        "  for x_i, y_i in zip(x, y))"
      ],
      "execution_count": null,
      "outputs": []
    },
    {
      "cell_type": "code",
      "metadata": {
        "id": "Qluks3Yo3Euk"
      },
      "source": [
        "def least_squares_fit(x, y):\n",
        "  \"\"\"given training values for x and y, find the least-squares values of alpha and beta\"\"\"\n",
        "  beta = correlation(x, y) * standard_deviation(y) / standard_deviation(x)\n",
        "  alpha = mean(y) - beta * mean(x)\n",
        "  return alpha, beta"
      ],
      "execution_count": null,
      "outputs": []
    },
    {
      "cell_type": "code",
      "metadata": {
        "colab": {
          "base_uri": "https://localhost:8080/"
        },
        "id": "FRWoMmc73XX4",
        "outputId": "75c4e212-9f89-4001-9bcb-2aa78692f176"
      },
      "source": [
        "alpha, beta = least_squares_fit(num_friends, daily_min)\n",
        "print(\"Alfa=\", alpha, \"\\nBeta=\", beta)"
      ],
      "execution_count": null,
      "outputs": [
        {
          "output_type": "stream",
          "name": "stdout",
          "text": [
            "Alfa= 12.04414431037803 \n",
            "Beta= 0.6311332712919577\n"
          ]
        }
      ]
    },
    {
      "cell_type": "code",
      "metadata": {
        "id": "_4UuXIRo3mR6"
      },
      "source": [
        "pred_daily_min = [predict(alpha, beta, i) for i in num_friends]\n",
        "plt.scatter(num_friends, daily_min)\n",
        "plt.plot(num_friends, pred_daily_min, color='red', linestyle='solid')\n",
        "plt.title(\"Minutos por dia X numero de amigos\")\n",
        "plt.xlabel(\"Qtde de amigos\")\n",
        "plt.ylabel(\"Minutos por dia no site\")\n",
        "plt.show()"
      ],
      "execution_count": null,
      "outputs": []
    },
    {
      "cell_type": "code",
      "metadata": {
        "id": "xU7KpQCV38o6"
      },
      "source": [
        "def total_sum_of_squares(y):\n",
        "  \"\"\"the total squared variation of y_i's from their mean\"\"\"\n",
        "  return sum(v ** 2 for v in de_mean(y))\n",
        "\n",
        "def r_squared(alpha, beta, x, y):\n",
        "  \"\"\"the fraction of variation in y captured by the model, which equals\n",
        "  1 - the fraction of variation in y not captured by the model\"\"\"\n",
        "  return 1.0 - (sum_of_squared_errors(alpha, beta, x, y) / total_sum_of_squares\n",
        "              \n",
        "r_squared(alpha, beta, num_friends, daily_min) # 0.329 na base do livro"
      ],
      "execution_count": null,
      "outputs": []
    },
    {
      "cell_type": "markdown",
      "metadata": {
        "id": "DYGwoklx41OZ"
      },
      "source": [
        "**Atividade 1**"
      ]
    },
    {
      "cell_type": "code",
      "metadata": {
        "id": "4--0VNOk44Sq"
      },
      "source": [
        "from random import randint\n",
        "num_friends_2 = [randint(0, 99) for _ in range(0, 50)]\n",
        "daily_min_2 = [math.sqrt(f) for f in num_friends_2]\n",
        "\n",
        "alpha_2 ,beta_2 = least_squares_fit(num_friends_2, daily_min_2)\n",
        "print(\"Alpha =\", alpha_2, \"\\nBeta =\", beta_2)\n",
        "\n",
        "print(\"R2 =\", r_squared(alpha_2, beta_2, num_friends_2, daily_min_2))\n",
        "\n",
        "pred_daily_min_2 = [predict(alpha_2, beta_2, i) for i in num_friends_2]\n",
        "plt.scatter(num_friends_2, daily_min_2)\n",
        "plt.plot(num_friends_2, pred_daily_min_2, color='red', linestyle='solid')\n",
        "plt.title(\"Minutos por dia X numero de amigos\")\n",
        "plt.xlabel(\"Qtde de amigos\")\n",
        "plt.ylabel(\"Minutos por dia no site\")\n",
        "plt.show()"
      ],
      "execution_count": null,
      "outputs": []
    },
    {
      "cell_type": "markdown",
      "metadata": {
        "id": "D5bAiGOFBbq3"
      },
      "source": [
        "**Atividade 2**"
      ]
    },
    {
      "cell_type": "code",
      "metadata": {
        "id": "KvU18mJeBgfv"
      },
      "source": [
        "data = np.genfromtxt('/content/drive/MyDrive/dataset/oxigenio.txt', missing_values=0, delimiter=' ',skip_header=1)\n",
        "\n",
        "alpha_ox, beta_ox = least_squares_fit(data[:,0], data[:,1])\n",
        "print(\"Alpha=\", alpha_ox, \"\\nBeta=\", beta_ox)\n",
        "\n",
        "print(\"R2 =\", r_squared(alpha_ox, beta_ox, data[:,0], data[:,1]))\n",
        "\n",
        "pred_ox = [predict(alpha_ox, beta_ox, i) for i in data[:,0]]\n",
        "plt.scatter(data[:,0], data[:,1])\n",
        "plt.plot(data[:,0], pred_ox, color='red', linestyle='solid')\n",
        "plt.title(\"Tempo de atividade X Quantidade de Oxigenio\")\n",
        "plt.xlabel(\"Tempo de atividade\")\n",
        "plt.ylabel(\"Quantidade de Oxigenio\")\n",
        "plt.show()\n",
        "\n",
        "print(\"Predição de oxigenio para 15 min. de atividade =\", predict(alpha_ox, beta_ox, 15) )\n",
        "print(\"Predição de oxigenio para 17 min. de atividade =\", predict(alpha_ox, beta_ox, 17) )\n",
        "print(\"Predição de oxigenio para 19 min. de atividade =\", predict(alpha_ox, beta_ox, 19) )"
      ],
      "execution_count": null,
      "outputs": []
    }
  ]
}