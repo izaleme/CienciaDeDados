{
  "nbformat": 4,
  "nbformat_minor": 0,
  "metadata": {
    "colab": {
      "name": "KNN-Notebook-KNN-com-SKLearn-e-Iris-Dataset.ipynb",
      "provenance": [],
      "collapsed_sections": [],
      "include_colab_link": true
    },
    "kernelspec": {
      "name": "python3",
      "display_name": "Python 3"
    },
    "language_info": {
      "name": "python"
    }
  },
  "cells": [
    {
      "cell_type": "markdown",
      "metadata": {
        "id": "view-in-github",
        "colab_type": "text"
      },
      "source": [
        "<a href=\"https://colab.research.google.com/github/izaleme/CienciaDeDados/blob/main/KNN_Notebook_com_SKLearn_e_Iris_Dataset.ipynb\" target=\"_parent\"><img src=\"https://colab.research.google.com/assets/colab-badge.svg\" alt=\"Open In Colab\"/></a>"
      ]
    },
    {
      "cell_type": "markdown",
      "metadata": {
        "id": "rv4RUWCn2bQH"
      },
      "source": [
        "**Aprendizado em aula**"
      ]
    },
    {
      "cell_type": "markdown",
      "metadata": {
        "id": "zbbg_jID2jnJ"
      },
      "source": [
        "`Aluno: Izabela Leme`"
      ]
    },
    {
      "cell_type": "code",
      "metadata": {
        "id": "ZsQ03btVWJ12"
      },
      "source": [
        "import numpy as np\n",
        "from sklearn import datasets\n",
        "from sklearn.neighbors import KNeighborsClassifier\n",
        "from sklearn.model_selection import train_test_split\n",
        "from collections import Counter"
      ],
      "execution_count": null,
      "outputs": []
    },
    {
      "cell_type": "code",
      "metadata": {
        "colab": {
          "base_uri": "https://localhost:8080/"
        },
        "id": "PbYB7e7P1BBT",
        "outputId": "2a778e00-81a9-41bc-8586-d997d8e90a50"
      },
      "source": [
        "from google.colab import drive\n",
        "drive.mount('/content/drive')"
      ],
      "execution_count": null,
      "outputs": [
        {
          "output_type": "stream",
          "name": "stdout",
          "text": [
            "Mounted at /content/drive\n"
          ]
        }
      ]
    },
    {
      "cell_type": "code",
      "metadata": {
        "id": "uIQEQPStWW3W"
      },
      "source": [
        "iris = datasets.load_iris()"
      ],
      "execution_count": null,
      "outputs": []
    },
    {
      "cell_type": "code",
      "metadata": {
        "id": "ofx0OHOsWYWs"
      },
      "source": [
        "X = iris.data[:, [0, 1, 2, 3]]\n",
        "y = iris.target"
      ],
      "execution_count": null,
      "outputs": []
    },
    {
      "cell_type": "code",
      "metadata": {
        "colab": {
          "base_uri": "https://localhost:8080/"
        },
        "id": "NDrTKA3IX7C8",
        "outputId": "ec82f90f-7f43-4ad8-8323-52443798ee8e"
      },
      "source": [
        "#split the data into training and test datasets.\n",
        "X_train, X_test, y_train, y_test = train_test_split(X, y, test_size=0.3, random_state=0)\n",
        "print('There are {} samples in the training set and {} samples in the test set and {}')"
      ],
      "execution_count": null,
      "outputs": [
        {
          "output_type": "stream",
          "name": "stdout",
          "text": [
            "There are {} samples in the training set and {} samples in the test set and {}\n"
          ]
        }
      ]
    },
    {
      "cell_type": "code",
      "metadata": {
        "colab": {
          "base_uri": "https://localhost:8080/"
        },
        "id": "N37_LGc9Y9AE",
        "outputId": "16caeaff-058b-4b34-d290-227916d92077"
      },
      "source": [
        "knn = KNeighborsClassifier(n_neighbors=5)\n",
        "knn.fit(X_train, y_train)\n"
      ],
      "execution_count": null,
      "outputs": [
        {
          "output_type": "execute_result",
          "data": {
            "text/plain": [
              "KNeighborsClassifier(algorithm='auto', leaf_size=30, metric='minkowski',\n",
              "                     metric_params=None, n_jobs=None, n_neighbors=5, p=2,\n",
              "                     weights='uniform')"
            ]
          },
          "metadata": {},
          "execution_count": 6
        }
      ]
    },
    {
      "cell_type": "code",
      "metadata": {
        "id": "HPjtKhoBZEIK"
      },
      "source": [
        "y_pred = knn.predict(X_test)"
      ],
      "execution_count": null,
      "outputs": []
    },
    {
      "cell_type": "code",
      "metadata": {
        "colab": {
          "base_uri": "https://localhost:8080/"
        },
        "id": "Dhs8dvt6ZHAy",
        "outputId": "bb875372-2d72-4a34-faa6-ffdaa8cefa27"
      },
      "source": [
        "y_pred"
      ],
      "execution_count": null,
      "outputs": [
        {
          "output_type": "execute_result",
          "data": {
            "text/plain": [
              "array([2, 1, 0, 2, 0, 2, 0, 1, 1, 1, 2, 1, 1, 1, 1, 0, 1, 1, 0, 0, 2, 1,\n",
              "       0, 0, 2, 0, 0, 1, 1, 0, 2, 1, 0, 2, 2, 1, 0, 2, 1, 1, 2, 0, 2, 0,\n",
              "       0])"
            ]
          },
          "metadata": {},
          "execution_count": 8
        }
      ]
    },
    {
      "cell_type": "code",
      "metadata": {
        "colab": {
          "base_uri": "https://localhost:8080/"
        },
        "id": "X6nRg-42Zhoi",
        "outputId": "a1ff788c-6c17-4985-c93a-9eee5f17f936"
      },
      "source": [
        "y_test"
      ],
      "execution_count": null,
      "outputs": [
        {
          "output_type": "execute_result",
          "data": {
            "text/plain": [
              "array([2, 1, 0, 2, 0, 2, 0, 1, 1, 1, 2, 1, 1, 1, 1, 0, 1, 1, 0, 0, 2, 1,\n",
              "       0, 0, 2, 0, 0, 1, 1, 0, 2, 1, 0, 2, 2, 1, 0, 1, 1, 1, 2, 0, 2, 0,\n",
              "       0])"
            ]
          },
          "metadata": {},
          "execution_count": 9
        }
      ]
    },
    {
      "cell_type": "code",
      "metadata": {
        "colab": {
          "base_uri": "https://localhost:8080/"
        },
        "id": "pYCChXeTZlfJ",
        "outputId": "f5933e94-c8a4-43b4-bf2d-678d67fef357"
      },
      "source": [
        "Counter(y_test)"
      ],
      "execution_count": null,
      "outputs": [
        {
          "output_type": "execute_result",
          "data": {
            "text/plain": [
              "Counter({0: 16, 1: 18, 2: 11})"
            ]
          },
          "metadata": {},
          "execution_count": 10
        }
      ]
    },
    {
      "cell_type": "code",
      "metadata": {
        "colab": {
          "base_uri": "https://localhost:8080/"
        },
        "id": "9aBzRjxhZohB",
        "outputId": "7a9f947c-fb59-4230-cd14-bf6bde165424"
      },
      "source": [
        "Counter({2: 11, 1: 18, 0: 16})"
      ],
      "execution_count": null,
      "outputs": [
        {
          "output_type": "execute_result",
          "data": {
            "text/plain": [
              "Counter({0: 16, 1: 18, 2: 11})"
            ]
          },
          "metadata": {},
          "execution_count": 11
        }
      ]
    },
    {
      "cell_type": "code",
      "metadata": {
        "colab": {
          "base_uri": "https://localhost:8080/"
        },
        "id": "86PNtiZgZrBC",
        "outputId": "bb38ec82-444d-4737-d1d9-89c79970bf81"
      },
      "source": [
        "Counter(y_pred)"
      ],
      "execution_count": null,
      "outputs": [
        {
          "output_type": "execute_result",
          "data": {
            "text/plain": [
              "Counter({0: 16, 1: 17, 2: 12})"
            ]
          },
          "metadata": {},
          "execution_count": 12
        }
      ]
    },
    {
      "cell_type": "code",
      "metadata": {
        "colab": {
          "base_uri": "https://localhost:8080/"
        },
        "id": "alKy2RQTZu9i",
        "outputId": "2ccecd68-4af5-46dd-df74-16558394efa4"
      },
      "source": [
        "hit_total = 0\n",
        "for i in range(len(y_pred)):\n",
        "  if y_pred[i] == y_test[i]:\n",
        "    hit_total += 1\n",
        "\n",
        "print(hit_total, \"of\", len(y_test), '=', round((hit_total/len(y_test)) * 100,2))"
      ],
      "execution_count": null,
      "outputs": [
        {
          "output_type": "stream",
          "name": "stdout",
          "text": [
            "44 of 45 = 97.78\n"
          ]
        }
      ]
    },
    {
      "cell_type": "markdown",
      "metadata": {
        "id": "SOIfnybm1Ut5"
      },
      "source": [
        "**Exercício 1: Calcular as métricas Falso Positivo, Falso Negativo, Verdadeiro Positivo e Verdadeiro Negativo**"
      ]
    },
    {
      "cell_type": "code",
      "metadata": {
        "colab": {
          "base_uri": "https://localhost:8080/"
        },
        "id": "JAguabk11cm3",
        "outputId": "36bdd4b2-14d9-4de4-98a7-696d30041079"
      },
      "source": [
        "fp = [0, 0, 0]\n",
        "fn = [0, 0, 0]\n",
        "tp = [0, 0, 0]\n",
        "tn = [0, 0, 0]\n",
        "\n",
        "for i in range(len(y_pred)):\n",
        "  if y_pred[i] == y_test[i]:\n",
        "    tp[y_pred[i]] += 1\n",
        "  \n",
        "  for n in [0, 1, 2]:\n",
        "    if n != y_pred[i]:\n",
        "      tn[n] += 1\n",
        "    else:\n",
        "      fp[y_pred[i]] += 1\n",
        "      fn[y_test[i]] += 1\n",
        "  \n",
        "  for n in [0, 1, 2]:\n",
        "    if n != y_pred[i] and n != y_test[i]:\n",
        "      tn[n] += 1\n",
        "\n",
        "print(fp, fn, tp, tn)"
      ],
      "execution_count": null,
      "outputs": [
        {
          "output_type": "stream",
          "name": "stdout",
          "text": [
            "[16, 17, 12] [16, 18, 11] [16, 17, 11] [58, 55, 66]\n"
          ]
        }
      ]
    },
    {
      "cell_type": "markdown",
      "metadata": {
        "id": "0_3ubB2f2Gbc"
      },
      "source": [
        "**Exercício 2: Calcular as métricas Precision, Recall e F1-score**"
      ]
    },
    {
      "cell_type": "code",
      "metadata": {
        "id": "V6dU6hB22IoX"
      },
      "source": [
        "def precision(tp, fp, fn, tn):\n",
        " return tp / (tp + fp)\n",
        "def recall(tp, fp, fn, tn):\n",
        " return tp / (tp + fn)\n",
        "def f1_score(tp, fp, fn, tn):\n",
        " p = precision(tp, fp, fn, tn)\n",
        " r = recall(tp, fp, fn, tn)\n",
        " return 2 * p * r / (p + r)"
      ],
      "execution_count": null,
      "outputs": []
    },
    {
      "cell_type": "code",
      "metadata": {
        "colab": {
          "base_uri": "https://localhost:8080/"
        },
        "id": "pt2YArxW2Ln3",
        "outputId": "d72ebad6-4b0b-4c0a-85f5-e8ed38c722b0"
      },
      "source": [
        "print('Precision Type 0 =', precision(tp[0], fp[0], fn[0], tn[0]))\n",
        "print('Precision Type 1 =', precision(tp[1], fp[1], fn[1], tn[1]))\n",
        "print('Precision Type 2 =', precision(tp[2], fp[2], fn[2], tn[2]))"
      ],
      "execution_count": null,
      "outputs": [
        {
          "output_type": "stream",
          "name": "stdout",
          "text": [
            "Precision Type 0 = 0.5\n",
            "Precision Type 1 = 0.5\n",
            "Precision Type 2 = 0.4782608695652174\n"
          ]
        }
      ]
    },
    {
      "cell_type": "code",
      "metadata": {
        "colab": {
          "base_uri": "https://localhost:8080/"
        },
        "id": "D05rJ-Ck2Pm_",
        "outputId": "8748ff11-f6b4-448e-83ac-50becf43cbe9"
      },
      "source": [
        "print('Recall Type 0 =', recall(tp[0], fp[0], fn[0], tn[0]))\n",
        "print('Recall Type 1 =', recall(tp[1], fp[1], fn[1], tn[1]))\n",
        "print('Recall Type 2 =', recall(tp[2], fp[2], fn[2], tn[2]))"
      ],
      "execution_count": null,
      "outputs": [
        {
          "output_type": "stream",
          "name": "stdout",
          "text": [
            "Recall Type 0 = 0.5\n",
            "Recall Type 1 = 0.4857142857142857\n",
            "Recall Type 2 = 0.5\n"
          ]
        }
      ]
    },
    {
      "cell_type": "code",
      "metadata": {
        "colab": {
          "base_uri": "https://localhost:8080/"
        },
        "id": "6M9yOxQy2WdO",
        "outputId": "8f4ac066-5388-49cb-f631-1d73b62de00b"
      },
      "source": [
        "print('F1-Score Type 0 =', f1_score(tp[0], fp[0], fn[0], tn[0]))\n",
        "print('F1-Score Type 1 =', f1_score(tp[1], fp[1], fn[1], tn[1]))\n",
        "print('F1-Score Type 2 =', f1_score(tp[2], fp[2], fn[2], tn[2]))"
      ],
      "execution_count": null,
      "outputs": [
        {
          "output_type": "stream",
          "name": "stdout",
          "text": [
            "F1-Score Type 0 = 0.5\n",
            "F1-Score Type 1 = 0.49275362318840576\n",
            "F1-Score Type 2 = 0.4888888888888889\n"
          ]
        }
      ]
    }
  ]
}