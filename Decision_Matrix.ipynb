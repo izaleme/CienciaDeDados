{
  "nbformat": 4,
  "nbformat_minor": 0,
  "metadata": {
    "colab": {
      "name": "Atividade 2 - CDII.ipynb",
      "provenance": [],
      "mount_file_id": "1A3nn6ofXMSDjeLJWPwYBZOi8HkCnovQd",
      "authorship_tag": "ABX9TyMmb7qP5MCZtBLk1LEVXINr",
      "include_colab_link": true
    },
    "kernelspec": {
      "name": "python3",
      "display_name": "Python 3"
    },
    "language_info": {
      "name": "python"
    }
  },
  "cells": [
    {
      "cell_type": "markdown",
      "metadata": {
        "id": "view-in-github",
        "colab_type": "text"
      },
      "source": [
        "<a href=\"https://colab.research.google.com/github/izaleme/CienciaDeDados/blob/main/Decision_Matrix.ipynb\" target=\"_parent\"><img src=\"https://colab.research.google.com/assets/colab-badge.svg\" alt=\"Open In Colab\"/></a>"
      ]
    },
    {
      "cell_type": "markdown",
      "metadata": {
        "id": "kfqDt8I9KFp0"
      },
      "source": [
        "# **Atividade 2 de CDD II - Izabela**"
      ]
    },
    {
      "cell_type": "markdown",
      "metadata": {
        "id": "YrewbBZUVGUS"
      },
      "source": [
        "***Esse trabalho foi feito usando Regressão Logística e SKLearn***"
      ]
    },
    {
      "cell_type": "markdown",
      "metadata": {
        "id": "aq9QbXH0U30G"
      },
      "source": [
        "***`Importa a biblioteca do google drive`***"
      ]
    },
    {
      "cell_type": "code",
      "metadata": {
        "colab": {
          "base_uri": "https://localhost:8080/"
        },
        "id": "zLZtoDhFKYiX",
        "outputId": "53e4e0bb-b8d8-4239-d76d-00086e80b073"
      },
      "source": [
        "from google.colab import drive\n",
        "drive.mount('/content/drive')"
      ],
      "execution_count": null,
      "outputs": [
        {
          "output_type": "stream",
          "name": "stdout",
          "text": [
            "Drive already mounted at /content/drive; to attempt to forcibly remount, call drive.mount(\"/content/drive\", force_remount=True).\n"
          ]
        }
      ]
    },
    {
      "cell_type": "markdown",
      "metadata": {
        "id": "itDfTqEwVXrs"
      },
      "source": [
        "***`Importa as bibliotecas que serão necessárias`***"
      ]
    },
    {
      "cell_type": "code",
      "metadata": {
        "id": "AO6PzosqKa6K"
      },
      "source": [
        "import numpy as np\n",
        "import matplotlib.pyplot as plt\n",
        "import pandas as pd"
      ],
      "execution_count": null,
      "outputs": []
    },
    {
      "cell_type": "markdown",
      "metadata": {
        "id": "wXwXl_5YVgK6"
      },
      "source": [
        "***`Carrega e exibe as estatísticas do dataset`***"
      ]
    },
    {
      "cell_type": "code",
      "metadata": {
        "colab": {
          "base_uri": "https://localhost:8080/",
          "height": 295
        },
        "id": "7kfM-6sDKgHN",
        "outputId": "bce1d131-b04d-4ca7-c0fa-81469d5d99ce"
      },
      "source": [
        "dataset = pd.read_csv(\"/content/drive/MyDrive/Datas/iris.data.txt\") # Carrega o dataset\n",
        "dataset.describe() # Exibe as estatísticas"
      ],
      "execution_count": null,
      "outputs": [
        {
          "output_type": "execute_result",
          "data": {
            "text/html": [
              "<div>\n",
              "<style scoped>\n",
              "    .dataframe tbody tr th:only-of-type {\n",
              "        vertical-align: middle;\n",
              "    }\n",
              "\n",
              "    .dataframe tbody tr th {\n",
              "        vertical-align: top;\n",
              "    }\n",
              "\n",
              "    .dataframe thead th {\n",
              "        text-align: right;\n",
              "    }\n",
              "</style>\n",
              "<table border=\"1\" class=\"dataframe\">\n",
              "  <thead>\n",
              "    <tr style=\"text-align: right;\">\n",
              "      <th></th>\n",
              "      <th>5.1</th>\n",
              "      <th>3.5</th>\n",
              "      <th>1.4</th>\n",
              "      <th>0.2</th>\n",
              "    </tr>\n",
              "  </thead>\n",
              "  <tbody>\n",
              "    <tr>\n",
              "      <th>count</th>\n",
              "      <td>149.000000</td>\n",
              "      <td>149.000000</td>\n",
              "      <td>149.000000</td>\n",
              "      <td>149.000000</td>\n",
              "    </tr>\n",
              "    <tr>\n",
              "      <th>mean</th>\n",
              "      <td>5.848322</td>\n",
              "      <td>3.051007</td>\n",
              "      <td>3.774497</td>\n",
              "      <td>1.205369</td>\n",
              "    </tr>\n",
              "    <tr>\n",
              "      <th>std</th>\n",
              "      <td>0.828594</td>\n",
              "      <td>0.433499</td>\n",
              "      <td>1.759651</td>\n",
              "      <td>0.761292</td>\n",
              "    </tr>\n",
              "    <tr>\n",
              "      <th>min</th>\n",
              "      <td>4.300000</td>\n",
              "      <td>2.000000</td>\n",
              "      <td>1.000000</td>\n",
              "      <td>0.100000</td>\n",
              "    </tr>\n",
              "    <tr>\n",
              "      <th>25%</th>\n",
              "      <td>5.100000</td>\n",
              "      <td>2.800000</td>\n",
              "      <td>1.600000</td>\n",
              "      <td>0.300000</td>\n",
              "    </tr>\n",
              "    <tr>\n",
              "      <th>50%</th>\n",
              "      <td>5.800000</td>\n",
              "      <td>3.000000</td>\n",
              "      <td>4.400000</td>\n",
              "      <td>1.300000</td>\n",
              "    </tr>\n",
              "    <tr>\n",
              "      <th>75%</th>\n",
              "      <td>6.400000</td>\n",
              "      <td>3.300000</td>\n",
              "      <td>5.100000</td>\n",
              "      <td>1.800000</td>\n",
              "    </tr>\n",
              "    <tr>\n",
              "      <th>max</th>\n",
              "      <td>7.900000</td>\n",
              "      <td>4.400000</td>\n",
              "      <td>6.900000</td>\n",
              "      <td>2.500000</td>\n",
              "    </tr>\n",
              "  </tbody>\n",
              "</table>\n",
              "</div>"
            ],
            "text/plain": [
              "              5.1         3.5         1.4         0.2\n",
              "count  149.000000  149.000000  149.000000  149.000000\n",
              "mean     5.848322    3.051007    3.774497    1.205369\n",
              "std      0.828594    0.433499    1.759651    0.761292\n",
              "min      4.300000    2.000000    1.000000    0.100000\n",
              "25%      5.100000    2.800000    1.600000    0.300000\n",
              "50%      5.800000    3.000000    4.400000    1.300000\n",
              "75%      6.400000    3.300000    5.100000    1.800000\n",
              "max      7.900000    4.400000    6.900000    2.500000"
            ]
          },
          "metadata": {},
          "execution_count": 24
        }
      ]
    },
    {
      "cell_type": "markdown",
      "metadata": {
        "id": "YuCysoS0V0vJ"
      },
      "source": [
        "***`Aqui o conjunto de dados será dividido em conjunto de treinamento e conjunto de teste`***"
      ]
    },
    {
      "cell_type": "code",
      "metadata": {
        "colab": {
          "base_uri": "https://localhost:8080/"
        },
        "id": "c8rkeyyLW9g4",
        "outputId": "947e66f7-4807-4653-e135-b351a2f4489e"
      },
      "source": [
        "dataset.info() # Informações do dataset"
      ],
      "execution_count": null,
      "outputs": [
        {
          "output_type": "stream",
          "name": "stdout",
          "text": [
            "<class 'pandas.core.frame.DataFrame'>\n",
            "RangeIndex: 149 entries, 0 to 148\n",
            "Data columns (total 5 columns):\n",
            " #   Column       Non-Null Count  Dtype  \n",
            "---  ------       --------------  -----  \n",
            " 0   5.1          149 non-null    float64\n",
            " 1   3.5          149 non-null    float64\n",
            " 2   1.4          149 non-null    float64\n",
            " 3   0.2          149 non-null    float64\n",
            " 4   Iris-setosa  149 non-null    object \n",
            "dtypes: float64(4), object(1)\n",
            "memory usage: 5.9+ KB\n"
          ]
        }
      ]
    },
    {
      "cell_type": "markdown",
      "metadata": {
        "id": "sVVWITg_XTFz"
      },
      "source": [
        "***`Dimensiona os recursos do dataset`***"
      ]
    },
    {
      "cell_type": "code",
      "metadata": {
        "id": "9w0hptwfKlhl"
      },
      "source": [
        "X = dataset.iloc[:, [0,1,2, 3]].values # Pega as 4 primeiras colunas (0 a 3)\n",
        "y = dataset.iloc[:, 4].values # Pega o valor do da coluna 4 (variável resposta)\n",
        "\n",
        "from sklearn.model_selection import train_test_split\n",
        "X_train, X_test, y_train, y_test = train_test_split(X, y, test_size = 0.25, random_state = 0)"
      ],
      "execution_count": null,
      "outputs": []
    },
    {
      "cell_type": "markdown",
      "metadata": {
        "id": "QxiTeva7XYyz"
      },
      "source": [
        "***`Adequa a regressão logística ao conjunto de treinamento`***"
      ]
    },
    {
      "cell_type": "code",
      "metadata": {
        "id": "oun27ylXKqy5"
      },
      "source": [
        "from sklearn.preprocessing import StandardScaler\n",
        "sc = StandardScaler()\n",
        "X_train = sc.fit_transform(X_train)\n",
        "X_test = sc.transform(X_test)"
      ],
      "execution_count": null,
      "outputs": []
    },
    {
      "cell_type": "code",
      "metadata": {
        "colab": {
          "base_uri": "https://localhost:8080/"
        },
        "id": "S0ozKTjsKudb",
        "outputId": "c80d7dc5-f0b6-475b-81a6-02796070a877"
      },
      "source": [
        "from sklearn.linear_model import LogisticRegression # Importação do sklearn\n",
        "classifier = LogisticRegression(random_state = 0, solver='lbfgs', multi_class='auto') # Definição de hiper parâmetros\n",
        "classifier.fit(X_train, y_train) # Ajuste"
      ],
      "execution_count": null,
      "outputs": [
        {
          "output_type": "execute_result",
          "data": {
            "text/plain": [
              "LogisticRegression(C=1.0, class_weight=None, dual=False, fit_intercept=True,\n",
              "                   intercept_scaling=1, l1_ratio=None, max_iter=100,\n",
              "                   multi_class='auto', n_jobs=None, penalty='l2',\n",
              "                   random_state=0, solver='lbfgs', tol=0.0001, verbose=0,\n",
              "                   warm_start=False)"
            ]
          },
          "metadata": {},
          "execution_count": 28
        }
      ]
    },
    {
      "cell_type": "markdown",
      "metadata": {
        "id": "VNWOOwFkXwWY"
      },
      "source": [
        "***`Prevendo os resultados e as probabilidades do conjunto de testes`***"
      ]
    },
    {
      "cell_type": "code",
      "metadata": {
        "id": "WGLysSVUX8BE"
      },
      "source": [
        "# Predicting the Test set results (Prevê os resultados do conjunto de testes)\n",
        "y_pred = classifier.predict(X_test) #x_test é uma matriz de teste\n",
        "\n",
        "# Predict probabilities (Prevê probabilidades)\n",
        "probs_y=classifier.predict_proba(X_test)\n",
        "\n",
        "probs_y = np.round(probs_y, 2)"
      ],
      "execution_count": null,
      "outputs": []
    },
    {
      "cell_type": "markdown",
      "metadata": {
        "id": "aBIrWKuRYKOc"
      },
      "source": [
        "***`Printa os resultados`***"
      ]
    },
    {
      "cell_type": "code",
      "metadata": {
        "colab": {
          "base_uri": "https://localhost:8080/"
        },
        "id": "2AoA2WpjKyJR",
        "outputId": "e8ff00e3-ac6b-420c-e7a9-e7e992a94eca"
      },
      "source": [
        "res = \"{:<10} | {:<10} | {:<10} | {:<13} | {:<5}\".format(\"y_test\", \"y_pred\", \"Setosa(%)\", \"versicolor(%)\", \"virginica(%)\\n\")\n",
        "res += \"-\"*65+\"\\n\"\n",
        "res += \"\\n\".join(\"{:<10} | {:<10} | {:<10} | {:<13} | {:<10}\".format(x, y, a, b, c) for x, y, a, b, c in zip(y_test, y_pred, probs_y[:,0], probs_y[:,1], probs_y[:,2]))\n",
        "res += \"\\n\"+\"-\"*65+\"\\n\"\n",
        "print(res)"
      ],
      "execution_count": null,
      "outputs": [
        {
          "output_type": "stream",
          "name": "stdout",
          "text": [
            "y_test     | y_pred     | Setosa(%)  | versicolor(%) | virginica(%)\n",
            "-----------------------------------------------------------------\n",
            "Iris-virginica | Iris-versicolor | 0.0        | 0.64          | 0.35      \n",
            "Iris-virginica | Iris-virginica | 0.0        | 0.13          | 0.86      \n",
            "Iris-versicolor | Iris-versicolor | 0.01       | 0.98          | 0.01      \n",
            "Iris-versicolor | Iris-versicolor | 0.02       | 0.97          | 0.01      \n",
            "Iris-setosa | Iris-setosa | 0.93       | 0.07          | 0.0       \n",
            "Iris-virginica | Iris-virginica | 0.0        | 0.02          | 0.98      \n",
            "Iris-virginica | Iris-virginica | 0.0        | 0.04          | 0.96      \n",
            "Iris-versicolor | Iris-versicolor | 0.06       | 0.87          | 0.07      \n",
            "Iris-virginica | Iris-versicolor | 0.0        | 0.73          | 0.27      \n",
            "Iris-versicolor | Iris-versicolor | 0.11       | 0.56          | 0.33      \n",
            "Iris-setosa | Iris-setosa | 0.93       | 0.07          | 0.0       \n",
            "Iris-setosa | Iris-setosa | 0.9        | 0.1           | 0.0       \n",
            "Iris-versicolor | Iris-versicolor | 0.03       | 0.88          | 0.1       \n",
            "Iris-setosa | Iris-setosa | 0.86       | 0.14          | 0.0       \n",
            "Iris-setosa | Iris-setosa | 0.96       | 0.04          | 0.0       \n",
            "Iris-virginica | Iris-versicolor | 0.0        | 0.65          | 0.35      \n",
            "Iris-virginica | Iris-virginica | 0.0        | 0.06          | 0.94      \n",
            "Iris-versicolor | Iris-versicolor | 0.02       | 0.9           | 0.08      \n",
            "Iris-setosa | Iris-setosa | 0.98       | 0.02          | 0.0       \n",
            "Iris-setosa | Iris-setosa | 0.99       | 0.01          | 0.0       \n",
            "Iris-setosa | Iris-versicolor | 0.46       | 0.54          | 0.0       \n",
            "Iris-setosa | Iris-setosa | 0.93       | 0.07          | 0.0       \n",
            "Iris-versicolor | Iris-versicolor | 0.01       | 0.71          | 0.28      \n",
            "Iris-setosa | Iris-setosa | 0.93       | 0.07          | 0.0       \n",
            "Iris-versicolor | Iris-versicolor | 0.02       | 0.8           | 0.18      \n",
            "Iris-versicolor | Iris-versicolor | 0.09       | 0.86          | 0.05      \n",
            "Iris-versicolor | Iris-versicolor | 0.03       | 0.8           | 0.17      \n",
            "Iris-setosa | Iris-setosa | 0.97       | 0.03          | 0.0       \n",
            "Iris-setosa | Iris-setosa | 0.99       | 0.01          | 0.0       \n",
            "Iris-virginica | Iris-virginica | 0.0        | 0.01          | 0.99      \n",
            "Iris-setosa | Iris-setosa | 0.96       | 0.04          | 0.0       \n",
            "Iris-versicolor | Iris-versicolor | 0.09       | 0.9           | 0.01      \n",
            "Iris-versicolor | Iris-versicolor | 0.02       | 0.9           | 0.08      \n",
            "Iris-versicolor | Iris-virginica | 0.02       | 0.34          | 0.63      \n",
            "Iris-setosa | Iris-setosa | 0.99       | 0.01          | 0.0       \n",
            "Iris-virginica | Iris-versicolor | 0.02       | 0.62          | 0.37      \n",
            "Iris-virginica | Iris-virginica | 0.0        | 0.2           | 0.79      \n",
            "Iris-versicolor | Iris-versicolor | 0.0        | 0.99          | 0.01      \n",
            "-----------------------------------------------------------------\n",
            "\n"
          ]
        }
      ]
    },
    {
      "cell_type": "markdown",
      "metadata": {
        "id": "GFQ__dbeYbf8"
      },
      "source": [
        "***`Criando a Matriz de Confusão`***"
      ]
    },
    {
      "cell_type": "code",
      "metadata": {
        "colab": {
          "base_uri": "https://localhost:8080/"
        },
        "id": "dED2L155KzEp",
        "outputId": "53929e89-6f9a-4fd9-85c5-a2952bd22583"
      },
      "source": [
        "from sklearn.metrics import confusion_matrix\n",
        "cm = confusion_matrix(y_test, y_pred)\n",
        "print(cm)"
      ],
      "execution_count": null,
      "outputs": [
        {
          "output_type": "stream",
          "name": "stdout",
          "text": [
            "[[13  1  0]\n",
            " [ 0 13  1]\n",
            " [ 0  4  6]]\n"
          ]
        }
      ]
    },
    {
      "cell_type": "markdown",
      "metadata": {
        "id": "fafnEvhMYt-4"
      },
      "source": [
        "***`Matriz de confusão de plotagem`***"
      ]
    },
    {
      "cell_type": "code",
      "metadata": {
        "colab": {
          "base_uri": "https://localhost:8080/",
          "height": 281
        },
        "id": "hrqu0SUUK13l",
        "outputId": "d778c520-eb7f-4807-c13e-4f6bdcbb72a8"
      },
      "source": [
        "# Confusion matrix sns heatmap (Mapa de calor)\n",
        "\n",
        "import seaborn as sns\n",
        "import pandas as pd\n",
        "\n",
        "ax = plt.axes()\n",
        "df_cm = cm\n",
        "sns.heatmap(df_cm, annot=True, annot_kws={\"size\": 30}, fmt='d',cmap=\"Purples\", ax = ax )\n",
        "ax.set_title('Confusion Matrix') # Título\n",
        "plt.show() # Mostra o mapa de calor matriz de confusão"
      ],
      "execution_count": null,
      "outputs": [
        {
          "output_type": "display_data",
          "data": {
            "image/png": "[encoded data removed]",
            "text/plain": [
              "<Figure size 432x288 with 2 Axes>"
            ]
          },
          "metadata": {
            "needs_background": "light"
          }
        }
      ]
    }
  ]
}