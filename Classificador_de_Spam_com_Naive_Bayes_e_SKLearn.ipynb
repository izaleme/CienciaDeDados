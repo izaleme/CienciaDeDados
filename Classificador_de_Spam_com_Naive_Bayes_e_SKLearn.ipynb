{
  "nbformat": 4,
  "nbformat_minor": 0,
  "metadata": {
    "colab": {
      "name": "Classificador de Spam com Naive Bayes e SKLearn.ipynb",
      "provenance": [],
      "mount_file_id": "1tz-wLovGcv-PZGC5GRHwr-MrHqLYZzKR",
      "authorship_tag": "ABX9TyPv1j7BDhxGrMDY02N1i+NR",
      "include_colab_link": true
    },
    "kernelspec": {
      "name": "python3",
      "display_name": "Python 3"
    },
    "language_info": {
      "name": "python"
    }
  },
  "cells": [
    {
      "cell_type": "markdown",
      "metadata": {
        "id": "view-in-github",
        "colab_type": "text"
      },
      "source": [
        "<a href=\"https://colab.research.google.com/github/izaleme/CienciaDeDados/blob/main/Classificador_de_Spam_com_Naive_Bayes_e_SKLearn.ipynb\" target=\"_parent\"><img src=\"https://colab.research.google.com/assets/colab-badge.svg\" alt=\"Open In Colab\"/></a>"
      ]
    },
    {
      "cell_type": "markdown",
      "metadata": {
        "id": "xInvLBm2FAm3"
      },
      "source": [
        "***Alunos: Izabela Leme, Rhainan Domingos***"
      ]
    },
    {
      "cell_type": "code",
      "metadata": {
        "id": "CKwCZpnWELtL"
      },
      "source": [
        "import sys\n",
        "sys.path.append('/content/drive/MyDrive/Colab Notebooks/Datas/spamassassin/')\n",
        "\n",
        "import numpy\n",
        "from sklearn.feature_extraction.text import CountVectorizer"
      ],
      "execution_count": 1,
      "outputs": []
    },
    {
      "cell_type": "code",
      "metadata": {
        "id": "s5nnmGPwEQKs"
      },
      "source": [
        "import os\n",
        "\n",
        "NEWLINE = '\\n'\n",
        "SKIP_FILES = set(['cmds'])"
      ],
      "execution_count": 2,
      "outputs": []
    },
    {
      "cell_type": "code",
      "metadata": {
        "id": "A2eLqNbRERKg"
      },
      "source": [
        "def read_files(path):\n",
        "    for root, dir_names, file_names in os.walk(path):\n",
        "        for path in dir_names:\n",
        "            read_files(os.path.join(root, path))\n",
        "    for file_name in file_names:\n",
        "        if file_name not in SKIP_FILES:\n",
        "            file_path = os.path.join(root, file_name)\n",
        "        if os.path.isfile(file_path):\n",
        "            past_header, lines = False, []\n",
        "            #f = open(file_path)\n",
        "            f = open(file_path, mode=\"r\", encoding=\"Latin-1\")\n",
        "            for line in f:\n",
        "                if past_header:\n",
        "                    lines.append(line)\n",
        "                elif line == NEWLINE:\n",
        "                    past_header = True\n",
        "            f.close()\n",
        "            yield file_path, NEWLINE.join(lines)#.decode('cp1252', 'ignore')"
      ],
      "execution_count": 3,
      "outputs": []
    },
    {
      "cell_type": "code",
      "metadata": {
        "id": "1UfZp7C0EcgX"
      },
      "source": [
        "from pandas import DataFrame\n",
        "\n",
        "def build_data_frame(path, classification):\n",
        "  data_frame = DataFrame({'text': [], 'class': []})\n",
        "  for file_name, text in read_files(path):\n",
        "    data_frame = data_frame.append(\n",
        "        DataFrame({'text': [text], 'class': [classification]}, index=[file_name]))\n",
        "  return data_frame"
      ],
      "execution_count": 4,
      "outputs": []
    },
    {
      "cell_type": "code",
      "metadata": {
        "id": "O4ySuYoOEebZ"
      },
      "source": [
        "HAM = 0\n",
        "SPAM = 1\n",
        "\n",
        "SOURCES = [\n",
        "    ('/content/drive/MyDrive/Colab Notebooks/Datas/spamassassin/spam',        SPAM),\n",
        "    ('/content/drive/MyDrive/Colab Notebooks/Datas/spamassassin/easy_ham',    HAM),\n",
        "    ('/content/drive/MyDrive/Colab Notebooks/Datas/spamassassin/hard_ham',    HAM)\n",
        "    ]\n",
        "\n",
        "data = DataFrame({'text': [], 'class': []})\n",
        "for path, classification in SOURCES:\n",
        "  data = data.append(build_data_frame(path, classification))\n",
        "  \n",
        "data = data.reindex(numpy.random.permutation(data.index))"
      ],
      "execution_count": 6,
      "outputs": []
    },
    {
      "cell_type": "code",
      "metadata": {
        "id": "XfGUoYzdEr_p"
      },
      "source": [
        "count_vectorizer = CountVectorizer()\n",
        "counts = count_vectorizer.fit_transform(numpy.asarray(data['text']))"
      ],
      "execution_count": 7,
      "outputs": []
    },
    {
      "cell_type": "code",
      "metadata": {
        "colab": {
          "base_uri": "https://localhost:8080/"
        },
        "id": "311HZLasE29d",
        "outputId": "aa32829a-7042-4cf0-adc9-8838f2589456"
      },
      "source": [
        "from sklearn.naive_bayes import MultinomialNB\n",
        "\n",
        "classifier = MultinomialNB()\n",
        "targets = numpy.asarray(data['class'])\n",
        "classifier.fit(counts, targets)"
      ],
      "execution_count": 8,
      "outputs": [
        {
          "output_type": "execute_result",
          "data": {
            "text/plain": [
              "MultinomialNB()"
            ]
          },
          "metadata": {},
          "execution_count": 8
        }
      ]
    },
    {
      "cell_type": "code",
      "metadata": {
        "colab": {
          "base_uri": "https://localhost:8080/"
        },
        "id": "_v0ZLXFqFpl8",
        "outputId": "c923d993-53b8-486a-f1b0-f3dc135e5bb4"
      },
      "source": [
        "examples = ['Free Viagra call today!', \"I'm going to attend the Linux users group tomorrow.\"]\n",
        "example_counts = count_vectorizer.transform(examples)\n",
        "predictions = classifier.predict(example_counts)\n",
        "predictions # [1, 0]"
      ],
      "execution_count": 9,
      "outputs": [
        {
          "output_type": "execute_result",
          "data": {
            "text/plain": [
              "array([1., 0.])"
            ]
          },
          "metadata": {},
          "execution_count": 9
        }
      ]
    },
    {
      "cell_type": "code",
      "metadata": {
        "colab": {
          "base_uri": "https://localhost:8080/"
        },
        "id": "kgyh34zgFrDP",
        "outputId": "cb538249-c448-4d07-cce2-a555a2997175"
      },
      "source": [
        "from sklearn.pipeline import Pipeline\n",
        "\n",
        "pipeline = Pipeline([\n",
        "  ('vectorizer',  CountVectorizer()),\n",
        "  ('classifier',  MultinomialNB()) ])\n",
        "\n",
        "pipeline.fit(numpy.asarray(data['text']), numpy.asarray(data['class']))\n",
        "pipeline.predict(examples) # [1, 0]"
      ],
      "execution_count": 10,
      "outputs": [
        {
          "output_type": "execute_result",
          "data": {
            "text/plain": [
              "array([1., 0.])"
            ]
          },
          "metadata": {},
          "execution_count": 10
        }
      ]
    },
    {
      "cell_type": "code",
      "metadata": {
        "id": "ABXgu565OEJO"
      },
      "source": [
        "from sklearn.naive_bayes import BernoulliNB"
      ],
      "execution_count": 11,
      "outputs": []
    },
    {
      "cell_type": "code",
      "metadata": {
        "id": "bbOo3w3CNjKn"
      },
      "source": [
        "pipeline = Pipeline([\n",
        "  ('count_vectorizer',   CountVectorizer(ngram_range=(1, 2))),\n",
        "  ('classifier',         BernoulliNB(binarize=0.0)) ])"
      ],
      "execution_count": 12,
      "outputs": []
    },
    {
      "cell_type": "code",
      "metadata": {
        "colab": {
          "base_uri": "https://localhost:8080/",
          "height": 537
        },
        "id": "BnCUDy0rN1QY",
        "outputId": "d3ae887a-6c7b-45e5-cd69-1b5273abb62e"
      },
      "source": [
        "data"
      ],
      "execution_count": 13,
      "outputs": [
        {
          "output_type": "execute_result",
          "data": {
            "text/html": [
              "\n",
              "  <div id=\"df-889f0d97-4da2-4ce8-829c-6563b09e2a2d\">\n",
              "    <div class=\"colab-df-container\">\n",
              "      <div>\n",
              "<style scoped>\n",
              "    .dataframe tbody tr th:only-of-type {\n",
              "        vertical-align: middle;\n",
              "    }\n",
              "\n",
              "    .dataframe tbody tr th {\n",
              "        vertical-align: top;\n",
              "    }\n",
              "\n",
              "    .dataframe thead th {\n",
              "        text-align: right;\n",
              "    }\n",
              "</style>\n",
              "<table border=\"1\" class=\"dataframe\">\n",
              "  <thead>\n",
              "    <tr style=\"text-align: right;\">\n",
              "      <th></th>\n",
              "      <th>text</th>\n",
              "      <th>class</th>\n",
              "    </tr>\n",
              "  </thead>\n",
              "  <tbody>\n",
              "    <tr>\n",
              "      <th>/content/drive/MyDrive/Colab Notebooks/Datas/spamassassin/spam/0403.5aa6261d36d1362bcd181ed7738de7f7</th>\n",
              "      <td>1) Lose 22.5lbs in 3 weeks!\\n\\nFlush Fat Away ...</td>\n",
              "      <td>1.0</td>\n",
              "    </tr>\n",
              "    <tr>\n",
              "      <th>/content/drive/MyDrive/Colab Notebooks/Datas/spamassassin/spam/0394.9c882c72ddfd810b56776fdaa1c727a6</th>\n",
              "      <td>&lt;html&gt;\\n\\n&lt;head&gt;\\n\\n&lt;title&gt;FREE* Liz Claiborne...</td>\n",
              "      <td>1.0</td>\n",
              "    </tr>\n",
              "    <tr>\n",
              "      <th>/content/drive/MyDrive/Colab Notebooks/Datas/spamassassin/hard_ham/0208.df5d7a4e950a3aa80a71fbb5186b0f87</th>\n",
              "      <td>\\n\\nThis is a multi-part message in MIME forma...</td>\n",
              "      <td>0.0</td>\n",
              "    </tr>\n",
              "    <tr>\n",
              "      <th>/content/drive/MyDrive/Colab Notebooks/Datas/spamassassin/easy_ham/0007.c75188382f64b090022fa3b095b020b0</th>\n",
              "      <td>\\n\\n&gt; I just had to jump in here as Carbonara ...</td>\n",
              "      <td>0.0</td>\n",
              "    </tr>\n",
              "    <tr>\n",
              "      <th>/content/drive/MyDrive/Colab Notebooks/Datas/spamassassin/spam/0043.8d93819b95ff90bf2e2b141c2909bfc9</th>\n",
              "      <td>--TEP-2108411027.1463792894.1027038601\\n\\nCont...</td>\n",
              "      <td>1.0</td>\n",
              "    </tr>\n",
              "    <tr>\n",
              "      <th>...</th>\n",
              "      <td>...</td>\n",
              "      <td>...</td>\n",
              "    </tr>\n",
              "    <tr>\n",
              "      <th>/content/drive/MyDrive/Colab Notebooks/Datas/spamassassin/easy_ham/0295.27b3176967da2ccf237679a15788d821</th>\n",
              "      <td>Bill:\\n\\n&gt; I've decided that I ought to put so...</td>\n",
              "      <td>0.0</td>\n",
              "    </tr>\n",
              "    <tr>\n",
              "      <th>/content/drive/MyDrive/Colab Notebooks/Datas/spamassassin/easy_ham/0342.16612b49bb48a41b6bdba8dff6bb2399</th>\n",
              "      <td>I wrote:\\n\\n&gt; [The bytecode interpreter] may i...</td>\n",
              "      <td>0.0</td>\n",
              "    </tr>\n",
              "    <tr>\n",
              "      <th>/content/drive/MyDrive/Colab Notebooks/Datas/spamassassin/hard_ham/0166.4b3874844ccb78cd7ca2cd03876124b0</th>\n",
              "      <td>&lt;html&gt;&lt;head&gt;&lt;!--\\n\\n**************************...</td>\n",
              "      <td>0.0</td>\n",
              "    </tr>\n",
              "    <tr>\n",
              "      <th>/content/drive/MyDrive/Colab Notebooks/Datas/spamassassin/easy_ham/0661.123776ef7c55f1119daa8f77075f77cb</th>\n",
              "      <td>&gt;&gt;&gt;&gt;&gt; \"J\" == Justin Mason &lt;jm@jmason.org&gt; writ...</td>\n",
              "      <td>0.0</td>\n",
              "    </tr>\n",
              "    <tr>\n",
              "      <th>/content/drive/MyDrive/Colab Notebooks/Datas/spamassassin/easy_ham/0615.935b5a30e35ec46502a33a445443c124</th>\n",
              "      <td>\\n\\nhttp://www.nationalreview.com/hanson/hanso...</td>\n",
              "      <td>0.0</td>\n",
              "    </tr>\n",
              "  </tbody>\n",
              "</table>\n",
              "<p>2372 rows × 2 columns</p>\n",
              "</div>\n",
              "      <button class=\"colab-df-convert\" onclick=\"convertToInteractive('df-889f0d97-4da2-4ce8-829c-6563b09e2a2d')\"\n",
              "              title=\"Convert this dataframe to an interactive table.\"\n",
              "              style=\"display:none;\">\n",
              "        \n",
              "  <svg xmlns=\"http://www.w3.org/2000/svg\" height=\"24px\"viewBox=\"0 0 24 24\"\n",
              "       width=\"24px\">\n",
              "    <path d=\"M0 0h24v24H0V0z\" fill=\"none\"/>\n",
              "    <path d=\"M18.56 5.44l.94 2.06.94-2.06 2.06-.94-2.06-.94-.94-2.06-.94 2.06-2.06.94zm-11 1L8.5 8.5l.94-2.06 2.06-.94-2.06-.94L8.5 2.5l-.94 2.06-2.06.94zm10 10l.94 2.06.94-2.06 2.06-.94-2.06-.94-.94-2.06-.94 2.06-2.06.94z\"/><path d=\"M17.41 7.96l-1.37-1.37c-.4-.4-.92-.59-1.43-.59-.52 0-1.04.2-1.43.59L10.3 9.45l-7.72 7.72c-.78.78-.78 2.05 0 2.83L4 21.41c.39.39.9.59 1.41.59.51 0 1.02-.2 1.41-.59l7.78-7.78 2.81-2.81c.8-.78.8-2.07 0-2.86zM5.41 20L4 18.59l7.72-7.72 1.47 1.35L5.41 20z\"/>\n",
              "  </svg>\n",
              "      </button>\n",
              "      \n",
              "  <style>\n",
              "    .colab-df-container {\n",
              "      display:flex;\n",
              "      flex-wrap:wrap;\n",
              "      gap: 12px;\n",
              "    }\n",
              "\n",
              "    .colab-df-convert {\n",
              "      background-color: #E8F0FE;\n",
              "      border: none;\n",
              "      border-radius: 50%;\n",
              "      cursor: pointer;\n",
              "      display: none;\n",
              "      fill: #1967D2;\n",
              "      height: 32px;\n",
              "      padding: 0 0 0 0;\n",
              "      width: 32px;\n",
              "    }\n",
              "\n",
              "    .colab-df-convert:hover {\n",
              "      background-color: #E2EBFA;\n",
              "      box-shadow: 0px 1px 2px rgba(60, 64, 67, 0.3), 0px 1px 3px 1px rgba(60, 64, 67, 0.15);\n",
              "      fill: #174EA6;\n",
              "    }\n",
              "\n",
              "    [theme=dark] .colab-df-convert {\n",
              "      background-color: #3B4455;\n",
              "      fill: #D2E3FC;\n",
              "    }\n",
              "\n",
              "    [theme=dark] .colab-df-convert:hover {\n",
              "      background-color: #434B5C;\n",
              "      box-shadow: 0px 1px 3px 1px rgba(0, 0, 0, 0.15);\n",
              "      filter: drop-shadow(0px 1px 2px rgba(0, 0, 0, 0.3));\n",
              "      fill: #FFFFFF;\n",
              "    }\n",
              "  </style>\n",
              "\n",
              "      <script>\n",
              "        const buttonEl =\n",
              "          document.querySelector('#df-889f0d97-4da2-4ce8-829c-6563b09e2a2d button.colab-df-convert');\n",
              "        buttonEl.style.display =\n",
              "          google.colab.kernel.accessAllowed ? 'block' : 'none';\n",
              "\n",
              "        async function convertToInteractive(key) {\n",
              "          const element = document.querySelector('#df-889f0d97-4da2-4ce8-829c-6563b09e2a2d');\n",
              "          const dataTable =\n",
              "            await google.colab.kernel.invokeFunction('convertToInteractive',\n",
              "                                                     [key], {});\n",
              "          if (!dataTable) return;\n",
              "\n",
              "          const docLinkHtml = 'Like what you see? Visit the ' +\n",
              "            '<a target=\"_blank\" href=https://colab.research.google.com/notebooks/data_table.ipynb>data table notebook</a>'\n",
              "            + ' to learn more about interactive tables.';\n",
              "          element.innerHTML = '';\n",
              "          dataTable['output_type'] = 'display_data';\n",
              "          await google.colab.output.renderOutput(dataTable, element);\n",
              "          const docLink = document.createElement('div');\n",
              "          docLink.innerHTML = docLinkHtml;\n",
              "          element.appendChild(docLink);\n",
              "        }\n",
              "      </script>\n",
              "    </div>\n",
              "  </div>\n",
              "  "
            ],
            "text/plain": [
              "                                                                                                 text  class\n",
              "/content/drive/MyDrive/Colab Notebooks/Datas/sp...  1) Lose 22.5lbs in 3 weeks!\\n\\nFlush Fat Away ...    1.0\n",
              "/content/drive/MyDrive/Colab Notebooks/Datas/sp...  <html>\\n\\n<head>\\n\\n<title>FREE* Liz Claiborne...    1.0\n",
              "/content/drive/MyDrive/Colab Notebooks/Datas/sp...  \\n\\nThis is a multi-part message in MIME forma...    0.0\n",
              "/content/drive/MyDrive/Colab Notebooks/Datas/sp...  \\n\\n> I just had to jump in here as Carbonara ...    0.0\n",
              "/content/drive/MyDrive/Colab Notebooks/Datas/sp...  --TEP-2108411027.1463792894.1027038601\\n\\nCont...    1.0\n",
              "...                                                                                               ...    ...\n",
              "/content/drive/MyDrive/Colab Notebooks/Datas/sp...  Bill:\\n\\n> I've decided that I ought to put so...    0.0\n",
              "/content/drive/MyDrive/Colab Notebooks/Datas/sp...  I wrote:\\n\\n> [The bytecode interpreter] may i...    0.0\n",
              "/content/drive/MyDrive/Colab Notebooks/Datas/sp...  <html><head><!--\\n\\n**************************...    0.0\n",
              "/content/drive/MyDrive/Colab Notebooks/Datas/sp...  >>>>> \"J\" == Justin Mason <jm@jmason.org> writ...    0.0\n",
              "/content/drive/MyDrive/Colab Notebooks/Datas/sp...  \\n\\nhttp://www.nationalreview.com/hanson/hanso...    0.0\n",
              "\n",
              "[2372 rows x 2 columns]"
            ]
          },
          "metadata": {},
          "execution_count": 13
        }
      ]
    }
  ]
}