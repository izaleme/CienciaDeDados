{
  "nbformat": 4,
  "nbformat_minor": 0,
  "metadata": {
    "colab": {
      "name": "Naive_Bayes_SK_Learn_Spam_Colab.ipynb",
      "provenance": [],
      "include_colab_link": true
    },
    "kernelspec": {
      "display_name": "Python 3",
      "language": "python",
      "name": "python3"
    },
    "language_info": {
      "codemirror_mode": {
        "name": "ipython",
        "version": 3
      },
      "file_extension": ".py",
      "mimetype": "text/x-python",
      "name": "python",
      "nbconvert_exporter": "python",
      "pygments_lexer": "ipython3",
      "version": "3.7.4"
    }
  },
  "cells": [
    {
      "cell_type": "markdown",
      "metadata": {
        "id": "view-in-github",
        "colab_type": "text"
      },
      "source": [
        "<a href=\"https://colab.research.google.com/github/izaleme/CienciaDeDados/blob/main/Naive_Bayes_SK_Learn_Spam_Colab.ipynb\" target=\"_parent\"><img src=\"https://colab.research.google.com/assets/colab-badge.svg\" alt=\"Open In Colab\"/></a>"
      ]
    },
    {
      "cell_type": "markdown",
      "metadata": {
        "id": "BIHDOUUBSpwW"
      },
      "source": [
        "## Classificador de Spam muito simples usando Naive Bayes e o dataset da UCI"
      ]
    },
    {
      "cell_type": "code",
      "metadata": {
        "id": "2f8HZPmWSpwZ",
        "outputId": "30a777ee-f357-4497-f4f9-75eec6c6cf55",
        "colab": {
          "base_uri": "https://localhost:8080/"
        }
      },
      "source": [
        "import nltk\n",
        "import ssl\n",
        "\n",
        "try:\n",
        "    _create_unverified_https_context = ssl._create_unverified_context\n",
        "except AttributeError:\n",
        "    pass\n",
        "else:\n",
        "    ssl._create_default_https_context = _create_unverified_https_context\n",
        "\n",
        "nltk.download('stopwords')"
      ],
      "execution_count": null,
      "outputs": [
        {
          "output_type": "stream",
          "name": "stdout",
          "text": [
            "[nltk_data] Downloading package stopwords to /root/nltk_data...\n",
            "[nltk_data]   Unzipping corpora/stopwords.zip.\n"
          ]
        },
        {
          "output_type": "execute_result",
          "data": {
            "text/plain": [
              "True"
            ]
          },
          "metadata": {},
          "execution_count": 2
        }
      ]
    },
    {
      "cell_type": "code",
      "metadata": {
        "id": "OqCbKGOQSpwf"
      },
      "source": [
        "from nltk.corpus import stopwords\n",
        "import string\n",
        "import pandas as pd\n",
        "\n",
        "from sklearn.model_selection import train_test_split\n",
        "from sklearn.pipeline import Pipeline\n",
        "from sklearn.feature_extraction.text import CountVectorizer\n",
        "from sklearn.feature_extraction.text import TfidfTransformer\n",
        "from sklearn.naive_bayes import MultinomialNB\n",
        "from sklearn.metrics import classification_report,confusion_matrix"
      ],
      "execution_count": null,
      "outputs": []
    },
    {
      "cell_type": "markdown",
      "metadata": {
        "id": "2sGgvd_ySpwi"
      },
      "source": [
        "### PARTE 1: PRÉ PROCESSAMENTO DE DADOS"
      ]
    },
    {
      "cell_type": "markdown",
      "metadata": {
        "id": "OymAFGS-msRS"
      },
      "source": [
        "Fazer o upload do dataset no ambiente do Colab"
      ]
    },
    {
      "cell_type": "code",
      "metadata": {
        "id": "FPcja2KQVMTb"
      },
      "source": [
        "from google.colab import files\n",
        "uploaded = files.upload()"
      ],
      "execution_count": null,
      "outputs": []
    },
    {
      "cell_type": "code",
      "metadata": {
        "id": "-DBP8djhSpwi"
      },
      "source": [
        "import io\n",
        "messages = pd.read_csv(io.BytesIO(uploaded['spam.csv']), encoding='latin-1')"
      ],
      "execution_count": null,
      "outputs": []
    },
    {
      "cell_type": "markdown",
      "metadata": {
        "id": "Dg1kQOkvmsRY"
      },
      "source": [
        "Como o dataset possui uma coluna adicional sem nome, preciso excluí-la primeiro"
      ]
    },
    {
      "cell_type": "code",
      "metadata": {
        "id": "maX--jTOmsRZ"
      },
      "source": [
        "messages.drop(['Unnamed: 2','Unnamed: 3','Unnamed: 4'],axis=1,inplace=True)"
      ],
      "execution_count": null,
      "outputs": []
    },
    {
      "cell_type": "markdown",
      "metadata": {
        "id": "YXt2gW5smsRb"
      },
      "source": [
        "Renomeando as colunas"
      ]
    },
    {
      "cell_type": "code",
      "metadata": {
        "id": "GaGuyxjimsRc"
      },
      "source": [
        "messages = messages.rename(columns={'v1': 'class','v2': 'text'})"
      ],
      "execution_count": null,
      "outputs": []
    },
    {
      "cell_type": "code",
      "metadata": {
        "id": "dkaOOnPcSpwl",
        "outputId": "0795c3c5-d344-4f21-f0d3-7b9ccb9e1472"
      },
      "source": [
        "messages.head()"
      ],
      "execution_count": null,
      "outputs": [
        {
          "output_type": "execute_result",
          "data": {
            "text/html": [
              "<div>\n",
              "<style scoped>\n",
              "    .dataframe tbody tr th:only-of-type {\n",
              "        vertical-align: middle;\n",
              "    }\n",
              "\n",
              "    .dataframe tbody tr th {\n",
              "        vertical-align: top;\n",
              "    }\n",
              "\n",
              "    .dataframe thead th {\n",
              "        text-align: right;\n",
              "    }\n",
              "</style>\n",
              "<table border=\"1\" class=\"dataframe\">\n",
              "  <thead>\n",
              "    <tr style=\"text-align: right;\">\n",
              "      <th></th>\n",
              "      <th>class</th>\n",
              "      <th>text</th>\n",
              "    </tr>\n",
              "  </thead>\n",
              "  <tbody>\n",
              "    <tr>\n",
              "      <td>0</td>\n",
              "      <td>ham</td>\n",
              "      <td>Go until jurong point, crazy.. Available only ...</td>\n",
              "    </tr>\n",
              "    <tr>\n",
              "      <td>1</td>\n",
              "      <td>ham</td>\n",
              "      <td>Ok lar... Joking wif u oni...</td>\n",
              "    </tr>\n",
              "    <tr>\n",
              "      <td>2</td>\n",
              "      <td>spam</td>\n",
              "      <td>Free entry in 2 a wkly comp to win FA Cup fina...</td>\n",
              "    </tr>\n",
              "    <tr>\n",
              "      <td>3</td>\n",
              "      <td>ham</td>\n",
              "      <td>U dun say so early hor... U c already then say...</td>\n",
              "    </tr>\n",
              "    <tr>\n",
              "      <td>4</td>\n",
              "      <td>ham</td>\n",
              "      <td>Nah I don't think he goes to usf, he lives aro...</td>\n",
              "    </tr>\n",
              "  </tbody>\n",
              "</table>\n",
              "</div>"
            ],
            "text/plain": [
              "  class                                               text\n",
              "0   ham  Go until jurong point, crazy.. Available only ...\n",
              "1   ham                      Ok lar... Joking wif u oni...\n",
              "2  spam  Free entry in 2 a wkly comp to win FA Cup fina...\n",
              "3   ham  U dun say so early hor... U c already then say...\n",
              "4   ham  Nah I don't think he goes to usf, he lives aro..."
            ]
          },
          "metadata": {
            "tags": []
          },
          "execution_count": 28
        }
      ]
    },
    {
      "cell_type": "markdown",
      "metadata": {
        "id": "e3tvkoZLSpwo"
      },
      "source": [
        "### PARTE 2: CRIAR UM \"TOKENIZER\""
      ]
    },
    {
      "cell_type": "code",
      "metadata": {
        "id": "vHbImbqzSpwo"
      },
      "source": [
        "def process_text(text):\n",
        "    '''\n",
        "    O que será feito:\n",
        "    1. Remover pontuações\n",
        "    2. Remover stopwords\n",
        "    3. Retornar a lista limpa contendo as palavras do texto\n",
        "    '''\n",
        "    \n",
        "    #1\n",
        "    nopunc = [char for char in text if char not in string.punctuation]\n",
        "    nopunc = ''.join(nopunc)\n",
        "    \n",
        "    #2\n",
        "    clean_words = [word for word in nopunc.split() if word.lower() not in stopwords.words('english')]\n",
        "    \n",
        "    #3\n",
        "    return clean_words"
      ],
      "execution_count": null,
      "outputs": []
    },
    {
      "cell_type": "markdown",
      "metadata": {
        "id": "AUVG_fDHSpwr"
      },
      "source": [
        "### PARTE 3: DIVIDINDO O DATASET"
      ]
    },
    {
      "cell_type": "code",
      "metadata": {
        "id": "i3bRs94-Spws"
      },
      "source": [
        "msg_train, msg_test, class_train, class_test = train_test_split(messages['text'],messages['class'],test_size=0.2)"
      ],
      "execution_count": null,
      "outputs": []
    },
    {
      "cell_type": "markdown",
      "metadata": {
        "id": "TT26lZfdSpwu"
      },
      "source": [
        "### PARTE 4: PRÉ PROCESSAMENTO DOS DADOS"
      ]
    },
    {
      "cell_type": "markdown",
      "metadata": {
        "id": "1ppD9lgPSpwv"
      },
      "source": [
        "Espere, nós já criamos o tokenizer, certo? Vamos usar um pipeline para fazer o resto."
      ]
    },
    {
      "cell_type": "markdown",
      "metadata": {
        "id": "KfWmCAIFSpww"
      },
      "source": [
        "### PARTE 5: CRIAÇÃO DO MODELO"
      ]
    },
    {
      "cell_type": "code",
      "metadata": {
        "id": "MI53cegHSpwx"
      },
      "source": [
        "pipeline = Pipeline([\n",
        "    ('bow',CountVectorizer(analyzer=process_text)), # converts strings to integer counts\n",
        "    ('tfidf',TfidfTransformer()), # converts integer counts to weighted TF-IDF scores\n",
        "    ('classifier',MultinomialNB()) # train on TF-IDF vectors with Naive Bayes classifier\n",
        "])"
      ],
      "execution_count": null,
      "outputs": []
    },
    {
      "cell_type": "markdown",
      "metadata": {
        "id": "atxXdSbDSpwz"
      },
      "source": [
        "### PARTE 6: TESTANDO...."
      ]
    },
    {
      "cell_type": "code",
      "metadata": {
        "id": "ZW_n2-RrSpw0",
        "outputId": "23a91486-ff0f-4788-fe5e-7ffc1354526e",
        "colab": {
          "base_uri": "https://localhost:8080/",
          "height": 306
        }
      },
      "source": [
        "pipeline.fit(msg_train,class_train)"
      ],
      "execution_count": null,
      "outputs": [
        {
          "output_type": "execute_result",
          "data": {
            "text/plain": [
              "Pipeline(memory=None,\n",
              "         steps=[('bow',\n",
              "                 CountVectorizer(analyzer=<function process_text at 0x7f4f82ed1f28>,\n",
              "                                 binary=False, decode_error='strict',\n",
              "                                 dtype=<class 'numpy.int64'>, encoding='utf-8',\n",
              "                                 input='content', lowercase=True, max_df=1.0,\n",
              "                                 max_features=None, min_df=1,\n",
              "                                 ngram_range=(1, 1), preprocessor=None,\n",
              "                                 stop_words=None, strip_accents=None,\n",
              "                                 token_pattern='(?u)\\\\b\\\\w\\\\w+\\\\b',\n",
              "                                 tokenizer=None, vocabulary=None)),\n",
              "                ('tfidf',\n",
              "                 TfidfTransformer(norm='l2', smooth_idf=True,\n",
              "                                  sublinear_tf=False, use_idf=True)),\n",
              "                ('classifier',\n",
              "                 MultinomialNB(alpha=1.0, class_prior=None, fit_prior=True))],\n",
              "         verbose=False)"
            ]
          },
          "metadata": {
            "tags": []
          },
          "execution_count": 14
        }
      ]
    },
    {
      "cell_type": "code",
      "metadata": {
        "id": "Nvq4bGGoSpw3"
      },
      "source": [
        "predictions = pipeline.predict(msg_test)"
      ],
      "execution_count": null,
      "outputs": []
    },
    {
      "cell_type": "code",
      "metadata": {
        "id": "DuDECUfxSpw6",
        "outputId": "21fe28bd-5979-4f6b-baad-50b9d362d23a",
        "colab": {
          "base_uri": "https://localhost:8080/",
          "height": 170
        }
      },
      "source": [
        "print(classification_report(class_test,predictions))"
      ],
      "execution_count": null,
      "outputs": [
        {
          "output_type": "stream",
          "text": [
            "              precision    recall  f1-score   support\n",
            "\n",
            "         ham       0.97      1.00      0.98       973\n",
            "        spam       1.00      0.77      0.87       142\n",
            "\n",
            "    accuracy                           0.97      1115\n",
            "   macro avg       0.98      0.88      0.93      1115\n",
            "weighted avg       0.97      0.97      0.97      1115\n",
            "\n"
          ],
          "name": "stdout"
        }
      ]
    },
    {
      "cell_type": "code",
      "metadata": {
        "id": "p-uL5iYYSpw9"
      },
      "source": [
        "pred = pipeline.predict([\"Free entry in 2 a wkly comp to win FA Cup\"])\n",
        "print(pred)"
      ],
      "execution_count": null,
      "outputs": []
    }
  ]
}